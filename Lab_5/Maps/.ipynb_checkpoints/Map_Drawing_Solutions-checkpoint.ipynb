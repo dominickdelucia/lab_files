{
 "cells": [
  {
   "cell_type": "markdown",
   "metadata": {},
   "source": [
    "# Map Drawing and Geolocation Plotting \n",
    "# CS 109A/AC 209A/STAT 121A Data Science: Lab 5 (Solutions)\n",
    "**Harvard University**<br>\n",
    "**Fall 2016**<br>\n",
    "**Instructors: W. Pan, P. Protopapas, K. Rader**<br>"
   ]
  },
  {
   "cell_type": "code",
   "execution_count": 2,
   "metadata": {
    "collapsed": true
   },
   "outputs": [],
   "source": [
    "import pandas as pd\n",
    "import matplotlib\n",
    "import matplotlib.pyplot as plt\n",
    "import matplotlib.cm as cmx\n",
    "import matplotlib.colors as colors\n",
    "%matplotlib inline\n",
    "\n",
    "# Import the basemap package\n",
    "from mpl_toolkits.basemap import Basemap\n",
    "from matplotlib.patches import Polygon"
   ]
  },
  {
   "cell_type": "markdown",
   "metadata": {},
   "source": [
    "## How to Plot Data on Maps\n",
    "\n",
    "This a data visualization exercise that is designed to show you how to draw maps with regional details in `python`.  \n",
    "\n",
    "Your goal is to extract the longitude, latitude information from a data set and visualize the data as points on a map with regional details.\n",
    "\n",
    "1. Load `WIC.csv`, this is a data set describing authorized WIC service providers. Examine your data.\n",
    "\n",
    "2. Clean the data set. Form an array of logitudes from the location information, do the same for latitudes. (Use only `.apply` to do the extraction)\n",
    "\n",
    "3. Create a map of California using `Basemap`. You can follow the basic tutorial [here](http://introtopython.org/visualization_earthquakes.htm). **Hint:** You need to get the longitude, latitude values of a bounding box around the state  of California, use Google Map to get these values of the corners of your box.\n",
    "\n",
    "4. The map you produce from step 3 will be crude. You can add some regional information, like county lines, to your map by plotting \"shape data\". Do this by reading the shape file contained in `California_County`:\n",
    "```\n",
    "my_map.readshapefile('./California_County/CaliforniaCounty', ...)\n",
    "```\n",
    "\n",
    "5. Plot the `WIC` data points on the final map of California with county lines. "
   ]
  },
  {
   "cell_type": "code",
   "execution_count": 3,
   "metadata": {
    "collapsed": false
   },
   "outputs": [
    {
     "data": {
      "text/html": [
       "<div>\n",
       "<table border=\"1\" class=\"dataframe\">\n",
       "  <thead>\n",
       "    <tr style=\"text-align: right;\">\n",
       "      <th></th>\n",
       "      <th>Vendor</th>\n",
       "      <th>Address</th>\n",
       "      <th>Second Address</th>\n",
       "      <th>City</th>\n",
       "      <th>Zip Code</th>\n",
       "      <th>County</th>\n",
       "      <th>Location</th>\n",
       "    </tr>\n",
       "  </thead>\n",
       "  <tbody>\n",
       "    <tr>\n",
       "      <th>0</th>\n",
       "      <td>STATER BROS. #038</td>\n",
       "      <td>E 1230 MCFADDEN AVE</td>\n",
       "      <td>NaN</td>\n",
       "      <td>SANTA ANA</td>\n",
       "      <td>92705</td>\n",
       "      <td>ORANGE</td>\n",
       "      <td>(33.732219, -117.85598)</td>\n",
       "    </tr>\n",
       "    <tr>\n",
       "      <th>1</th>\n",
       "      <td>STATER BROS. #186</td>\n",
       "      <td>2687 GATEWAY RD</td>\n",
       "      <td>NaN</td>\n",
       "      <td>CARLSBAD</td>\n",
       "      <td>92009</td>\n",
       "      <td>SAN DIEGO</td>\n",
       "      <td>(33.126631, -117.2519)</td>\n",
       "    </tr>\n",
       "    <tr>\n",
       "      <th>2</th>\n",
       "      <td>STATER BROS. #172</td>\n",
       "      <td>25900 IRIS AVE</td>\n",
       "      <td>NaN</td>\n",
       "      <td>MORENO VALLEY</td>\n",
       "      <td>92551</td>\n",
       "      <td>RIVERSIDE</td>\n",
       "      <td>(33.89137, -117.20858)</td>\n",
       "    </tr>\n",
       "    <tr>\n",
       "      <th>3</th>\n",
       "      <td>STATER BROS. #124</td>\n",
       "      <td>24336 EL TORO RD</td>\n",
       "      <td>NaN</td>\n",
       "      <td>LAGUNA HILLS</td>\n",
       "      <td>92653</td>\n",
       "      <td>ORANGE</td>\n",
       "      <td>(33.608268, -117.73128)</td>\n",
       "    </tr>\n",
       "    <tr>\n",
       "      <th>4</th>\n",
       "      <td>STATER BROS. #033</td>\n",
       "      <td>2603 WESTMINSTER AVE</td>\n",
       "      <td>NaN</td>\n",
       "      <td>SANTA ANA</td>\n",
       "      <td>92706</td>\n",
       "      <td>ORANGE</td>\n",
       "      <td>(33.760486, -117.90469)</td>\n",
       "    </tr>\n",
       "  </tbody>\n",
       "</table>\n",
       "</div>"
      ],
      "text/plain": [
       "              Vendor               Address Second Address           City  \\\n",
       "0  STATER BROS. #038   E 1230 MCFADDEN AVE            NaN      SANTA ANA   \n",
       "1  STATER BROS. #186       2687 GATEWAY RD            NaN       CARLSBAD   \n",
       "2  STATER BROS. #172        25900 IRIS AVE            NaN  MORENO VALLEY   \n",
       "3  STATER BROS. #124      24336 EL TORO RD            NaN   LAGUNA HILLS   \n",
       "4  STATER BROS. #033  2603 WESTMINSTER AVE            NaN      SANTA ANA   \n",
       "\n",
       "   Zip Code     County                 Location  \n",
       "0     92705     ORANGE  (33.732219, -117.85598)  \n",
       "1     92009  SAN DIEGO   (33.126631, -117.2519)  \n",
       "2     92551  RIVERSIDE   (33.89137, -117.20858)  \n",
       "3     92653     ORANGE  (33.608268, -117.73128)  \n",
       "4     92706     ORANGE  (33.760486, -117.90469)  "
      ]
     },
     "execution_count": 3,
     "metadata": {},
     "output_type": "execute_result"
    }
   ],
   "source": [
    "df = pd.read_csv('WIC.csv')\n",
    "df.head()"
   ]
  },
  {
   "cell_type": "code",
   "execution_count": 4,
   "metadata": {
    "collapsed": false
   },
   "outputs": [
    {
     "data": {
      "text/plain": [
       "str"
      ]
     },
     "execution_count": 4,
     "metadata": {},
     "output_type": "execute_result"
    }
   ],
   "source": [
    "type(df['Location'].iloc[0])"
   ]
  },
  {
   "cell_type": "code",
   "execution_count": 5,
   "metadata": {
    "collapsed": false
   },
   "outputs": [
    {
     "data": {
      "text/plain": [
       "[33.86735, -117.93348]"
      ]
     },
     "execution_count": 5,
     "metadata": {},
     "output_type": "execute_result"
    }
   ],
   "source": [
    "df = df.dropna()\n",
    "geolocation = df['Location'].apply(lambda s: s.replace('(', '').replace(')', '').split(','))\n",
    "geolocation = geolocation.apply(lambda l: [float(item) for item in l])\n",
    "geolocation.iloc[0]"
   ]
  },
  {
   "cell_type": "code",
   "execution_count": 11,
   "metadata": {
    "collapsed": false
   },
   "outputs": [
    {
     "data": {
      "text/plain": [
       "array([ 33.86735 ,  34.168135,  34.130469,  34.061408,  35.262871])"
      ]
     },
     "execution_count": 11,
     "metadata": {},
     "output_type": "execute_result"
    }
   ],
   "source": [
    "latitude = geolocation.apply(lambda t: t[0]).values\n",
    "latitude[:5]"
   ]
  },
  {
   "cell_type": "code",
   "execution_count": 7,
   "metadata": {
    "collapsed": false
   },
   "outputs": [
    {
     "data": {
      "text/plain": [
       "array([-117.93348, -117.31476, -117.31837, -117.72072, -118.91482])"
      ]
     },
     "execution_count": 7,
     "metadata": {},
     "output_type": "execute_result"
    }
   ],
   "source": [
    "longitude = geolocation.apply(lambda t: t[1]).values\n",
    "longitude[:5]"
   ]
  },
  {
   "cell_type": "code",
   "execution_count": 9,
   "metadata": {
    "collapsed": false
   },
   "outputs": [
    {
     "data": {
      "image/png": "[encoded data removed]",
      "text/plain": [
       "<matplotlib.figure.Figure at 0x10ca5de90>"
      ]
     },
     "metadata": {},
     "output_type": "display_data"
    }
   ],
   "source": [
    "# Create a map on which to draw\n",
    "m = Basemap(projection='merc',\n",
    "            resolution = 'i', area_thresh = 0.1,\n",
    "            llcrnrlon=-125.384752, llcrnrlat=32.561167,\n",
    "            urcrnrlon=-113.211901, urcrnrlat=42.078247)\n",
    "\n",
    "# Draw coastlines, and the edges of the map.\n",
    "m.drawmapboundary()\n",
    "m.drawcoastlines()\n",
    "m.fillcontinents(color='lightgray', zorder=-1)\n",
    "\n",
    "m.readshapefile('./California_County/CaliforniaCounty', \n",
    "                name='California_County', \n",
    "                drawbounds=True, \n",
    "                color='blue', zorder=1)\n",
    "\n",
    "\n",
    "# Use matplotlib to draw the points onto the map.\n",
    "x, y = m(latitude, longitude)\n",
    "m.scatter(x, y, s=50)\n",
    "\n",
    "# Show the plot.\n",
    "plt.show()"
   ]
  }
 ],
 "metadata": {
  "kernelspec": {
   "display_name": "Python 2",
   "language": "python",
   "name": "python2"
  },
  "language_info": {
   "codemirror_mode": {
    "name": "ipython",
    "version": 2
   },
   "file_extension": ".py",
   "mimetype": "text/x-python",
   "name": "python",
   "nbconvert_exporter": "python",
   "pygments_lexer": "ipython2",
   "version": "2.7.11"
  }
 },
 "nbformat": 4,
 "nbformat_minor": 0
}
