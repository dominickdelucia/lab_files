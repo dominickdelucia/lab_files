{
 "cells": [
  {
   "cell_type": "markdown",
   "metadata": {},
   "source": [
    "# Merging, Grouping and Sythnesizing Data in Pandas\n",
    "# CS 109A/AC 209A/STAT 121A Data Science: Lab 5 (Solutions)\n",
    "**Harvard University**<br>\n",
    "**Fall 2016**<br>\n",
    "**Instructors: W. Pan, P. Protopapas, K. Rader**<br>"
   ]
  },
  {
   "cell_type": "code",
   "execution_count": 2,
   "metadata": {
    "collapsed": true
   },
   "outputs": [],
   "source": [
    "#Import libraries\n",
    "import pandas as pd\n",
    "import numpy as np\n",
    "import matplotlib.pyplot as plt\n",
    "%matplotlib inline"
   ]
  },
  {
   "cell_type": "markdown",
   "metadata": {},
   "source": [
    "## How to synthesize data from multiple sources\n",
    "\n",
    "This simple data scraping exercise is designed to show you how to combine data frames.  Often in data science you will be bringing together data from different places to answer new and interesting questions.\n",
    "\n",
    "Your goal here is to make a scatter plot of cheese consumption versus cardiovascular disease rates for countries of the world, however you must first combine these data.  Let's start by loading them.\n",
    "\n",
    "Load `cheese.csv` and `cardio_disease.csv`. Examine your data."
   ]
  },
  {
   "cell_type": "code",
   "execution_count": 62,
   "metadata": {
    "collapsed": false
   },
   "outputs": [
    {
     "data": {
      "text/html": [
       "<div>\n",
       "<table border=\"1\" class=\"dataframe\">\n",
       "  <thead>\n",
       "    <tr style=\"text-align: right;\">\n",
       "      <th></th>\n",
       "      <th>AreaName</th>\n",
       "      <th>Cheese</th>\n",
       "    </tr>\n",
       "  </thead>\n",
       "  <tbody>\n",
       "    <tr>\n",
       "      <th>0</th>\n",
       "      <td>Afghanistan</td>\n",
       "      <td>23.34</td>\n",
       "    </tr>\n",
       "    <tr>\n",
       "      <th>1</th>\n",
       "      <td>Africa</td>\n",
       "      <td>23.34</td>\n",
       "    </tr>\n",
       "    <tr>\n",
       "      <th>2</th>\n",
       "      <td>Albania</td>\n",
       "      <td>93.51</td>\n",
       "    </tr>\n",
       "    <tr>\n",
       "      <th>3</th>\n",
       "      <td>Algeria</td>\n",
       "      <td>11.88</td>\n",
       "    </tr>\n",
       "    <tr>\n",
       "      <th>4</th>\n",
       "      <td>Americas</td>\n",
       "      <td>145.67</td>\n",
       "    </tr>\n",
       "  </tbody>\n",
       "</table>\n",
       "</div>"
      ],
      "text/plain": [
       "      AreaName  Cheese\n",
       "0  Afghanistan   23.34\n",
       "1       Africa   23.34\n",
       "2      Albania   93.51\n",
       "3      Algeria   11.88\n",
       "4     Americas  145.67"
      ]
     },
     "execution_count": 62,
     "metadata": {},
     "output_type": "execute_result"
    }
   ],
   "source": [
    "#This is per capita cheese consumption for areas of the world, added across the years 1990 to 2012.\n",
    "#The units are kilograms per capita.\n",
    "cheese = pd.DataFrame(pd.read_csv('cheese.csv'))\n",
    "cheese.head()"
   ]
  },
  {
   "cell_type": "code",
   "execution_count": 63,
   "metadata": {
    "collapsed": false
   },
   "outputs": [
    {
     "data": {
      "text/html": [
       "<div>\n",
       "<table border=\"1\" class=\"dataframe\">\n",
       "  <thead>\n",
       "    <tr style=\"text-align: right;\">\n",
       "      <th></th>\n",
       "      <th>Country</th>\n",
       "      <th>Age-standardized mortality rate by cause (per 100 000 population)</th>\n",
       "    </tr>\n",
       "  </thead>\n",
       "  <tbody>\n",
       "    <tr>\n",
       "      <th>0</th>\n",
       "      <td>Bahamas</td>\n",
       "      <td>220.0</td>\n",
       "    </tr>\n",
       "    <tr>\n",
       "      <th>1</th>\n",
       "      <td>Bahrain</td>\n",
       "      <td>187.2</td>\n",
       "    </tr>\n",
       "    <tr>\n",
       "      <th>2</th>\n",
       "      <td>Bangladesh</td>\n",
       "      <td>166.2</td>\n",
       "    </tr>\n",
       "    <tr>\n",
       "      <th>3</th>\n",
       "      <td>Barbados</td>\n",
       "      <td>128.1</td>\n",
       "    </tr>\n",
       "    <tr>\n",
       "      <th>4</th>\n",
       "      <td>Belarus</td>\n",
       "      <td>464.2</td>\n",
       "    </tr>\n",
       "  </tbody>\n",
       "</table>\n",
       "</div>"
      ],
      "text/plain": [
       "      Country  \\\n",
       "0     Bahamas   \n",
       "1     Bahrain   \n",
       "2  Bangladesh   \n",
       "3    Barbados   \n",
       "4     Belarus   \n",
       "\n",
       "   Age-standardized mortality rate by cause (per 100 000 population)  \n",
       "0                                              220.0                  \n",
       "1                                              187.2                  \n",
       "2                                              166.2                  \n",
       "3                                              128.1                  \n",
       "4                                              464.2                  "
      ]
     },
     "execution_count": 63,
     "metadata": {},
     "output_type": "execute_result"
    }
   ],
   "source": [
    "#Read in cardiovascular disease data\n",
    "#For the year 2012\n",
    "cardio_disease = pd.DataFrame(pd.read_csv('cardio_disease.csv'))\n",
    "cardio_disease.head()"
   ]
  },
  {
   "cell_type": "markdown",
   "metadata": {},
   "source": [
    "## Joining dataframes and plotting\n",
    "\n",
    "Pandas has functionality to combine the two data frames and sort them by a key.  Read the documentation here for information on how to do this:  http://pandas.pydata.org/pandas-docs/stable/merging.html\n",
    "\n",
    "1. Merge the infromation in the two data frames by country, using the `merge` function. Why won't concatenating the dataframes work?\n",
    "```\n",
    "pd.merge(df1, df2, ...)\n",
    "```\n",
    "\n",
    "2. Make a scatter plot of cheese consumption versus cardiovascular disease\n",
    "\n",
    "3. What do you notice in the relationship between these variables?"
   ]
  },
  {
   "cell_type": "code",
   "execution_count": 64,
   "metadata": {
    "collapsed": false
   },
   "outputs": [
    {
     "data": {
      "text/html": [
       "<div>\n",
       "<table border=\"1\" class=\"dataframe\">\n",
       "  <thead>\n",
       "    <tr style=\"text-align: right;\">\n",
       "      <th></th>\n",
       "      <th>AreaName</th>\n",
       "      <th>Cheese</th>\n",
       "      <th>Country</th>\n",
       "      <th>Age-standardized mortality rate by cause (per 100 000 population)</th>\n",
       "    </tr>\n",
       "  </thead>\n",
       "  <tbody>\n",
       "    <tr>\n",
       "      <th>0</th>\n",
       "      <td>Afghanistan</td>\n",
       "      <td>23.34</td>\n",
       "      <td>NaN</td>\n",
       "      <td>NaN</td>\n",
       "    </tr>\n",
       "    <tr>\n",
       "      <th>1</th>\n",
       "      <td>Africa</td>\n",
       "      <td>23.34</td>\n",
       "      <td>NaN</td>\n",
       "      <td>NaN</td>\n",
       "    </tr>\n",
       "    <tr>\n",
       "      <th>2</th>\n",
       "      <td>Albania</td>\n",
       "      <td>93.51</td>\n",
       "      <td>NaN</td>\n",
       "      <td>NaN</td>\n",
       "    </tr>\n",
       "    <tr>\n",
       "      <th>3</th>\n",
       "      <td>Algeria</td>\n",
       "      <td>11.88</td>\n",
       "      <td>NaN</td>\n",
       "      <td>NaN</td>\n",
       "    </tr>\n",
       "    <tr>\n",
       "      <th>4</th>\n",
       "      <td>Americas</td>\n",
       "      <td>145.67</td>\n",
       "      <td>NaN</td>\n",
       "      <td>NaN</td>\n",
       "    </tr>\n",
       "  </tbody>\n",
       "</table>\n",
       "</div>"
      ],
      "text/plain": [
       "      AreaName  Cheese Country  \\\n",
       "0  Afghanistan   23.34     NaN   \n",
       "1       Africa   23.34     NaN   \n",
       "2      Albania   93.51     NaN   \n",
       "3      Algeria   11.88     NaN   \n",
       "4     Americas  145.67     NaN   \n",
       "\n",
       "   Age-standardized mortality rate by cause (per 100 000 population)  \n",
       "0                                                NaN                  \n",
       "1                                                NaN                  \n",
       "2                                                NaN                  \n",
       "3                                                NaN                  \n",
       "4                                                NaN                  "
      ]
     },
     "execution_count": 64,
     "metadata": {},
     "output_type": "execute_result"
    }
   ],
   "source": [
    "result = pd.merge(cheese, cardio_disease, left_on='AreaName', right_on='Country', how='left')\n",
    "result.head()"
   ]
  },
  {
   "cell_type": "code",
   "execution_count": 65,
   "metadata": {
    "collapsed": false
   },
   "outputs": [
    {
     "data": {
      "text/html": [
       "<div>\n",
       "<table border=\"1\" class=\"dataframe\">\n",
       "  <thead>\n",
       "    <tr style=\"text-align: right;\">\n",
       "      <th></th>\n",
       "      <th>AreaName</th>\n",
       "      <th>Cheese</th>\n",
       "      <th>Country</th>\n",
       "      <th>Age-standardized mortality rate by cause (per 100 000 population)</th>\n",
       "    </tr>\n",
       "  </thead>\n",
       "  <tbody>\n",
       "    <tr>\n",
       "      <th>14</th>\n",
       "      <td>Bahamas</td>\n",
       "      <td>121.53</td>\n",
       "      <td>Bahamas</td>\n",
       "      <td>220.0</td>\n",
       "    </tr>\n",
       "    <tr>\n",
       "      <th>15</th>\n",
       "      <td>Bangladesh</td>\n",
       "      <td>0.23</td>\n",
       "      <td>Bangladesh</td>\n",
       "      <td>166.2</td>\n",
       "    </tr>\n",
       "    <tr>\n",
       "      <th>16</th>\n",
       "      <td>Barbados</td>\n",
       "      <td>151.62</td>\n",
       "      <td>Barbados</td>\n",
       "      <td>128.1</td>\n",
       "    </tr>\n",
       "    <tr>\n",
       "      <th>17</th>\n",
       "      <td>Belarus</td>\n",
       "      <td>77.09</td>\n",
       "      <td>Belarus</td>\n",
       "      <td>464.2</td>\n",
       "    </tr>\n",
       "    <tr>\n",
       "      <th>18</th>\n",
       "      <td>Belgium</td>\n",
       "      <td>238.59</td>\n",
       "      <td>Belgium</td>\n",
       "      <td>111.1</td>\n",
       "    </tr>\n",
       "  </tbody>\n",
       "</table>\n",
       "</div>"
      ],
      "text/plain": [
       "      AreaName  Cheese     Country  \\\n",
       "14     Bahamas  121.53     Bahamas   \n",
       "15  Bangladesh    0.23  Bangladesh   \n",
       "16    Barbados  151.62    Barbados   \n",
       "17     Belarus   77.09     Belarus   \n",
       "18     Belgium  238.59     Belgium   \n",
       "\n",
       "    Age-standardized mortality rate by cause (per 100 000 population)  \n",
       "14                                              220.0                  \n",
       "15                                              166.2                  \n",
       "16                                              128.1                  \n",
       "17                                              464.2                  \n",
       "18                                              111.1                  "
      ]
     },
     "execution_count": 65,
     "metadata": {},
     "output_type": "execute_result"
    }
   ],
   "source": [
    "result = result.dropna()\n",
    "result.head()"
   ]
  },
  {
   "cell_type": "code",
   "execution_count": 66,
   "metadata": {
    "collapsed": false
   },
   "outputs": [
    {
     "data": {
      "image/png": "[encoded data removed]",
      "text/plain": [
       "<matplotlib.figure.Figure at 0x112773e90>"
      ]
     },
     "metadata": {},
     "output_type": "display_data"
    }
   ],
   "source": [
    "plt.scatter(result['Cheese'].values, result['Age-standardized mortality rate by cause (per 100 000 population)'].values)\n",
    "plt.show()"
   ]
  },
  {
   "cell_type": "markdown",
   "metadata": {},
   "source": [
    "## Data scraping issues\n",
    "\n",
    "What countries included in the merged data frame?  How do they compare to the countries in the original frames?\n",
    "\n",
    "What difficulties do you anticipate when merging dataframes like this?  For example, from disparate sources, the same country may be spelled differently.  How would you identify and deal with such issues?"
   ]
  },
  {
   "cell_type": "markdown",
   "metadata": {},
   "source": [
    "## Grouping Data in Pandas Data Frames\n",
    "\n",
    "Say we want to split the data frame into two subsets: those countries whose cheese consumption is above the world mean and those countries whose cheese consumption is below the world mean.\n",
    "\n",
    "We could do this by filtering the data frame and record the two subsets each as a data frame, but later we might have to recombine the data! Instead we can create groups within one data frame using `pandas`' `groupby` functionality.\n",
    "\n",
    "1. First define two bins of values for the cheese colum to separate the values into those below the mean and those above the mean. Store the end points of your bins in a list:\n",
    "```\n",
    "[0, cheese_mean, cheese_max]\n",
    "```\n",
    "\n",
    "2. Use `pandas`' `cut` functionality to sort each cheese value into one of the bins:\n",
    "```\n",
    "pd.cut(cheese_values, bins=[0, cheese_mean, cheese_max])\n",
    "```\n",
    "\n",
    "3. Group the data in your data frame into two groups, those whose cheese assumption falls into the first bin, and those that fall into the second:\n",
    "```\n",
    "df.groupby(the cut you just made in step 2)\n",
    "```\n",
    "\n",
    "4. Play around with the object returned by `groupby`, try accessing each of the groups, using `get_group`.\n",
    "\n",
    "5. Now, we want to compute the stats for the mortality column by group. Try applying the `mean` function to the mortality column in the `groupby` object you got from step 4. What does the result look like?\n",
    "\n",
    "6. If you want to apply a list of functions to the mortality column, you can use the `aggregate` function:\n",
    "```\n",
    "df['column'].agg([function_1, funciton_2, ...])\n",
    "```\n",
    "\n",
    "7. Use `aggregate` to compute the mean and the std of the mortality column in your grouped dataframe. What does the result look like? Try to access each value in the resuliting structure."
   ]
  },
  {
   "cell_type": "code",
   "execution_count": 18,
   "metadata": {
    "collapsed": false,
    "scrolled": true
   },
   "outputs": [
    {
     "data": {
      "text/plain": [
       "0           (0, 87.784]\n",
       "1      (87.784, 567.74]\n",
       "2           (0, 87.784]\n",
       "3           (0, 87.784]\n",
       "4      (87.784, 567.74]\n",
       "5           (0, 87.784]\n",
       "6      (87.784, 567.74]\n",
       "7      (87.784, 567.74]\n",
       "8      (87.784, 567.74]\n",
       "9      (87.784, 567.74]\n",
       "10          (0, 87.784]\n",
       "11     (87.784, 567.74]\n",
       "12          (0, 87.784]\n",
       "13     (87.784, 567.74]\n",
       "14          (0, 87.784]\n",
       "15          (0, 87.784]\n",
       "16          (0, 87.784]\n",
       "17          (0, 87.784]\n",
       "18          (0, 87.784]\n",
       "19          (0, 87.784]\n",
       "20          (0, 87.784]\n",
       "21     (87.784, 567.74]\n",
       "22          (0, 87.784]\n",
       "23          (0, 87.784]\n",
       "24          (0, 87.784]\n",
       "25          (0, 87.784]\n",
       "26     (87.784, 567.74]\n",
       "27          (0, 87.784]\n",
       "28          (0, 87.784]\n",
       "29          (0, 87.784]\n",
       "             ...       \n",
       "124    (87.784, 567.74]\n",
       "125    (87.784, 567.74]\n",
       "126         (0, 87.784]\n",
       "127         (0, 87.784]\n",
       "128    (87.784, 567.74]\n",
       "129         (0, 87.784]\n",
       "130         (0, 87.784]\n",
       "131         (0, 87.784]\n",
       "132    (87.784, 567.74]\n",
       "133    (87.784, 567.74]\n",
       "134         (0, 87.784]\n",
       "135         (0, 87.784]\n",
       "136         (0, 87.784]\n",
       "137         (0, 87.784]\n",
       "138    (87.784, 567.74]\n",
       "139         (0, 87.784]\n",
       "140         (0, 87.784]\n",
       "141         (0, 87.784]\n",
       "142                 NaN\n",
       "143         (0, 87.784]\n",
       "144    (87.784, 567.74]\n",
       "145         (0, 87.784]\n",
       "146    (87.784, 567.74]\n",
       "147    (87.784, 567.74]\n",
       "148         (0, 87.784]\n",
       "149    (87.784, 567.74]\n",
       "150         (0, 87.784]\n",
       "151         (0, 87.784]\n",
       "152         (0, 87.784]\n",
       "153         (0, 87.784]\n",
       "Name: Cheese, dtype: category\n",
       "Categories (2, object): [(0, 87.784] < (87.784, 567.74]]"
      ]
     },
     "execution_count": 18,
     "metadata": {},
     "output_type": "execute_result"
    }
   ],
   "source": [
    "pd.cut(result['Cheese'], bins=[0, result['Cheese'].mean(), result['Cheese'].max() + 1])"
   ]
  },
  {
   "cell_type": "code",
   "execution_count": 39,
   "metadata": {
    "collapsed": false,
    "scrolled": true
   },
   "outputs": [
    {
     "data": {
      "text/plain": [
       "0      23.34\n",
       "2      11.88\n",
       "3       3.76\n",
       "5      55.78\n",
       "10      0.23\n",
       "12     77.09\n",
       "14     73.92\n",
       "15      0.60\n",
       "16     20.60\n",
       "17     75.88\n",
       "18     55.38\n",
       "19      8.02\n",
       "20     17.74\n",
       "22      0.25\n",
       "23     13.49\n",
       "24      0.08\n",
       "25      0.43\n",
       "27      0.25\n",
       "28      0.09\n",
       "29     78.61\n",
       "30      4.26\n",
       "31     30.49\n",
       "32      1.51\n",
       "33     45.96\n",
       "35     34.54\n",
       "40      6.21\n",
       "41     14.61\n",
       "42     70.37\n",
       "44     49.68\n",
       "46      1.41\n",
       "       ...  \n",
       "110     3.10\n",
       "111    11.75\n",
       "112     4.02\n",
       "115    12.99\n",
       "116    33.47\n",
       "117    68.98\n",
       "119     0.01\n",
       "120    48.59\n",
       "121     2.23\n",
       "122    12.48\n",
       "123     0.87\n",
       "126     0.97\n",
       "127    20.29\n",
       "129     1.02\n",
       "130    22.74\n",
       "131    16.32\n",
       "134    29.61\n",
       "135     1.77\n",
       "136     0.24\n",
       "137     0.46\n",
       "139    10.36\n",
       "140    47.05\n",
       "141    11.29\n",
       "143    51.92\n",
       "145     3.13\n",
       "148    12.32\n",
       "150     0.45\n",
       "151    28.90\n",
       "152     2.43\n",
       "153     5.71\n",
       "Name: Cheese, dtype: float64"
      ]
     },
     "execution_count": 39,
     "metadata": {},
     "output_type": "execute_result"
    }
   ],
   "source": [
    "results_by_cheese = result.groupby(pd.cut(result['Cheese'], bins=[0, result['Cheese'].mean(), result['Cheese'].max() + 1]))\n",
    "results_by_cheese['Cheese'].get_group('(0, 87.784]')"
   ]
  },
  {
   "cell_type": "code",
   "execution_count": 41,
   "metadata": {
    "collapsed": false
   },
   "outputs": [
    {
     "data": {
      "text/html": [
       "<div>\n",
       "<table border=\"1\" class=\"dataframe\">\n",
       "  <thead>\n",
       "    <tr>\n",
       "      <th></th>\n",
       "      <th colspan=\"2\" halign=\"left\">Age-standardized mortality rate by cause (per 100 000 population)</th>\n",
       "    </tr>\n",
       "    <tr>\n",
       "      <th></th>\n",
       "      <th>mean</th>\n",
       "      <th>std</th>\n",
       "    </tr>\n",
       "    <tr>\n",
       "      <th>Cheese</th>\n",
       "      <th></th>\n",
       "      <th></th>\n",
       "    </tr>\n",
       "  </thead>\n",
       "  <tbody>\n",
       "    <tr>\n",
       "      <th>(0, 87.784]</th>\n",
       "      <td>303.802913</td>\n",
       "      <td>121.563016</td>\n",
       "    </tr>\n",
       "    <tr>\n",
       "      <th>(87.784, 567.74]</th>\n",
       "      <td>202.277551</td>\n",
       "      <td>115.198217</td>\n",
       "    </tr>\n",
       "  </tbody>\n",
       "</table>\n",
       "</div>"
      ],
      "text/plain": [
       "                 Age-standardized mortality rate by cause (per 100 000 population)  \\\n",
       "                                                                              mean   \n",
       "Cheese                                                                               \n",
       "(0, 87.784]                                              303.802913                  \n",
       "(87.784, 567.74]                                         202.277551                  \n",
       "\n",
       "                              \n",
       "                         std  \n",
       "Cheese                        \n",
       "(0, 87.784]       121.563016  \n",
       "(87.784, 567.74]  115.198217  "
      ]
     },
     "execution_count": 41,
     "metadata": {},
     "output_type": "execute_result"
    }
   ],
   "source": [
    "results_by_cheese_stats = results_by_cheese[['Age-standardized mortality rate by cause (per 100 000 population)']].agg([np.mean, np.std])\n",
    "results_by_cheese_stats.head()"
   ]
  },
  {
   "cell_type": "code",
   "execution_count": 50,
   "metadata": {
    "collapsed": false
   },
   "outputs": [
    {
     "data": {
      "text/html": [
       "<div>\n",
       "<table border=\"1\" class=\"dataframe\">\n",
       "  <thead>\n",
       "    <tr style=\"text-align: right;\">\n",
       "      <th></th>\n",
       "      <th>mean</th>\n",
       "      <th>std</th>\n",
       "    </tr>\n",
       "    <tr>\n",
       "      <th>Cheese</th>\n",
       "      <th></th>\n",
       "      <th></th>\n",
       "    </tr>\n",
       "  </thead>\n",
       "  <tbody>\n",
       "    <tr>\n",
       "      <th>(0, 87.784]</th>\n",
       "      <td>303.802913</td>\n",
       "      <td>121.563016</td>\n",
       "    </tr>\n",
       "    <tr>\n",
       "      <th>(87.784, 567.74]</th>\n",
       "      <td>202.277551</td>\n",
       "      <td>115.198217</td>\n",
       "    </tr>\n",
       "  </tbody>\n",
       "</table>\n",
       "</div>"
      ],
      "text/plain": [
       "                        mean         std\n",
       "Cheese                                  \n",
       "(0, 87.784]       303.802913  121.563016\n",
       "(87.784, 567.74]  202.277551  115.198217"
      ]
     },
     "execution_count": 50,
     "metadata": {},
     "output_type": "execute_result"
    }
   ],
   "source": [
    "results_by_cheese_stats['Age-standardized mortality rate by cause (per 100 000 population)']"
   ]
  },
  {
   "cell_type": "code",
   "execution_count": 51,
   "metadata": {
    "collapsed": false
   },
   "outputs": [
    {
     "data": {
      "text/plain": [
       "Cheese\n",
       "(0, 87.784]         303.802913\n",
       "(87.784, 567.74]    202.277551\n",
       "Name: mean, dtype: float64"
      ]
     },
     "execution_count": 51,
     "metadata": {},
     "output_type": "execute_result"
    }
   ],
   "source": [
    "results_by_cheese_stats['Age-standardized mortality rate by cause (per 100 000 population)']['mean']"
   ]
  }
 ],
 "metadata": {
  "kernelspec": {
   "display_name": "Python 2",
   "language": "python",
   "name": "python2"
  },
  "language_info": {
   "codemirror_mode": {
    "name": "ipython",
    "version": 2
   },
   "file_extension": ".py",
   "mimetype": "text/x-python",
   "name": "python",
   "nbconvert_exporter": "python",
   "pygments_lexer": "ipython2",
   "version": "2.7.11"
  }
 },
 "nbformat": 4,
 "nbformat_minor": 0
}
